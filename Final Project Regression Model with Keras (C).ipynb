{
 "cells": [
  {
   "cell_type": "markdown",
   "id": "060bb9ba-4b20-426e-bede-a5876b4a292f",
   "metadata": {},
   "source": [
    "Project Final: Build a Regression Model in Keras"
   ]
  },
  {
   "cell_type": "markdown",
   "id": "b3a5dbaa-dd46-461a-ba64-a8ce012229b8",
   "metadata": {
    "button": false,
    "new_sheet": false,
    "run_control": {
     "read_only": false
    }
   },
   "source": [
    "## Download and Clean Dataset\n"
   ]
  },
  {
   "cell_type": "code",
   "execution_count": 1,
   "id": "dada8afc-bbdd-4526-9c63-5b1bba23b9d1",
   "metadata": {
    "button": false,
    "new_sheet": false,
    "run_control": {
     "read_only": false
    }
   },
   "outputs": [],
   "source": [
    "import pandas as pd\n",
    "import numpy as np"
   ]
  },
  {
   "cell_type": "markdown",
   "id": "126801d1-10aa-427a-bf95-f722428fc0e9",
   "metadata": {
    "button": false,
    "new_sheet": false,
    "run_control": {
     "read_only": false
    }
   },
   "source": [
    "We will be playing around with the same dataset that we used in the videos.\n",
    "\n",
    "<strong>The dataset is about the compressive strength of different samples of concrete based on the volumes of the different ingredients that were used to make them. Ingredients include:</strong>\n",
    "\n",
    "<strong>1. Cement</strong>\n",
    "\n",
    "<strong>2. Blast Furnace Slag</strong>\n",
    "\n",
    "<strong>3. Fly Ash</strong>\n",
    "\n",
    "<strong>4. Water</strong>\n",
    "\n",
    "<strong>5. Superplasticizer</strong>\n",
    "\n",
    "<strong>6. Coarse Aggregate</strong>\n",
    "\n",
    "<strong>7. Fine Aggregate</strong>\n"
   ]
  },
  {
   "cell_type": "markdown",
   "id": "85a621db-c647-4a0e-92d0-cd3fb75c6a7c",
   "metadata": {
    "button": false,
    "new_sheet": false,
    "run_control": {
     "read_only": false
    }
   },
   "source": [
    "Let's download the data and read it into a <em>pandas</em> dataframe.\n"
   ]
  },
  {
   "cell_type": "code",
   "execution_count": 2,
   "id": "341d78dc-50ec-427b-a4b8-f7048b703d8e",
   "metadata": {
    "button": false,
    "new_sheet": false,
    "run_control": {
     "read_only": false
    }
   },
   "outputs": [
    {
     "data": {
      "text/html": [
       "<div>\n",
       "<style scoped>\n",
       "    .dataframe tbody tr th:only-of-type {\n",
       "        vertical-align: middle;\n",
       "    }\n",
       "\n",
       "    .dataframe tbody tr th {\n",
       "        vertical-align: top;\n",
       "    }\n",
       "\n",
       "    .dataframe thead th {\n",
       "        text-align: right;\n",
       "    }\n",
       "</style>\n",
       "<table border=\"1\" class=\"dataframe\">\n",
       "  <thead>\n",
       "    <tr style=\"text-align: right;\">\n",
       "      <th></th>\n",
       "      <th>Cement</th>\n",
       "      <th>Blast Furnace Slag</th>\n",
       "      <th>Fly Ash</th>\n",
       "      <th>Water</th>\n",
       "      <th>Superplasticizer</th>\n",
       "      <th>Coarse Aggregate</th>\n",
       "      <th>Fine Aggregate</th>\n",
       "      <th>Age</th>\n",
       "      <th>Strength</th>\n",
       "    </tr>\n",
       "  </thead>\n",
       "  <tbody>\n",
       "    <tr>\n",
       "      <th>0</th>\n",
       "      <td>540.0</td>\n",
       "      <td>0.0</td>\n",
       "      <td>0.0</td>\n",
       "      <td>162.0</td>\n",
       "      <td>2.5</td>\n",
       "      <td>1040.0</td>\n",
       "      <td>676.0</td>\n",
       "      <td>28</td>\n",
       "      <td>79.99</td>\n",
       "    </tr>\n",
       "    <tr>\n",
       "      <th>1</th>\n",
       "      <td>540.0</td>\n",
       "      <td>0.0</td>\n",
       "      <td>0.0</td>\n",
       "      <td>162.0</td>\n",
       "      <td>2.5</td>\n",
       "      <td>1055.0</td>\n",
       "      <td>676.0</td>\n",
       "      <td>28</td>\n",
       "      <td>61.89</td>\n",
       "    </tr>\n",
       "    <tr>\n",
       "      <th>2</th>\n",
       "      <td>332.5</td>\n",
       "      <td>142.5</td>\n",
       "      <td>0.0</td>\n",
       "      <td>228.0</td>\n",
       "      <td>0.0</td>\n",
       "      <td>932.0</td>\n",
       "      <td>594.0</td>\n",
       "      <td>270</td>\n",
       "      <td>40.27</td>\n",
       "    </tr>\n",
       "    <tr>\n",
       "      <th>3</th>\n",
       "      <td>332.5</td>\n",
       "      <td>142.5</td>\n",
       "      <td>0.0</td>\n",
       "      <td>228.0</td>\n",
       "      <td>0.0</td>\n",
       "      <td>932.0</td>\n",
       "      <td>594.0</td>\n",
       "      <td>365</td>\n",
       "      <td>41.05</td>\n",
       "    </tr>\n",
       "    <tr>\n",
       "      <th>4</th>\n",
       "      <td>198.6</td>\n",
       "      <td>132.4</td>\n",
       "      <td>0.0</td>\n",
       "      <td>192.0</td>\n",
       "      <td>0.0</td>\n",
       "      <td>978.4</td>\n",
       "      <td>825.5</td>\n",
       "      <td>360</td>\n",
       "      <td>44.30</td>\n",
       "    </tr>\n",
       "  </tbody>\n",
       "</table>\n",
       "</div>"
      ],
      "text/plain": [
       "   Cement  Blast Furnace Slag  Fly Ash  Water  Superplasticizer  \\\n",
       "0   540.0                 0.0      0.0  162.0               2.5   \n",
       "1   540.0                 0.0      0.0  162.0               2.5   \n",
       "2   332.5               142.5      0.0  228.0               0.0   \n",
       "3   332.5               142.5      0.0  228.0               0.0   \n",
       "4   198.6               132.4      0.0  192.0               0.0   \n",
       "\n",
       "   Coarse Aggregate  Fine Aggregate  Age  Strength  \n",
       "0            1040.0           676.0   28     79.99  \n",
       "1            1055.0           676.0   28     61.89  \n",
       "2             932.0           594.0  270     40.27  \n",
       "3             932.0           594.0  365     41.05  \n",
       "4             978.4           825.5  360     44.30  "
      ]
     },
     "execution_count": 2,
     "metadata": {},
     "output_type": "execute_result"
    }
   ],
   "source": [
    "concrete_data = pd.read_csv('https://s3-api.us-geo.objectstorage.softlayer.net/cf-courses-data/CognitiveClass/DL0101EN/labs/data/concrete_data.csv')\n",
    "concrete_data.head()"
   ]
  },
  {
   "cell_type": "markdown",
   "id": "8928abde-b071-4439-a40a-7b55e3979f67",
   "metadata": {
    "button": false,
    "new_sheet": false,
    "run_control": {
     "read_only": false
    }
   },
   "source": [
    "So the first concrete sample has 540 cubic meter of cement, 0 cubic meter of blast furnace slag, 0 cubic meter of fly ash, 162 cubic meter of water, 2.5 cubic meter of superplaticizer, 1040 cubic meter of coarse aggregate, 676 cubic meter of fine aggregate. Such a concrete mix which is 28 days old, has a compressive strength of 79.99 MPa.\n"
   ]
  },
  {
   "cell_type": "markdown",
   "id": "bf3fae3e-85d2-42a7-9048-2b7cd3cb6fc7",
   "metadata": {
    "button": false,
    "new_sheet": false,
    "run_control": {
     "read_only": false
    }
   },
   "source": [
    "#### Let's check how many data points we have.\n"
   ]
  },
  {
   "cell_type": "code",
   "execution_count": 3,
   "id": "af7389b0-5465-4c86-8eb6-46ec768a6105",
   "metadata": {
    "button": false,
    "new_sheet": false,
    "run_control": {
     "read_only": false
    },
    "tags": []
   },
   "outputs": [
    {
     "data": {
      "text/plain": [
       "(1030, 9)"
      ]
     },
     "execution_count": 3,
     "metadata": {},
     "output_type": "execute_result"
    }
   ],
   "source": [
    "concrete_data.shape"
   ]
  },
  {
   "cell_type": "markdown",
   "id": "6554b853-2be3-4d26-8e95-e70ecde770a1",
   "metadata": {
    "button": false,
    "new_sheet": false,
    "run_control": {
     "read_only": false
    }
   },
   "source": [
    "So, there are approximately 1000 samples to train our model on. Because of the few samples, we have to be careful not to overfit the training data.\n"
   ]
  },
  {
   "cell_type": "markdown",
   "id": "80842e33-00fe-4838-9d66-db46c9da3da0",
   "metadata": {
    "button": false,
    "new_sheet": false,
    "run_control": {
     "read_only": false
    }
   },
   "source": [
    "Let's check the dataset for any missing values.\n"
   ]
  },
  {
   "cell_type": "code",
   "execution_count": 4,
   "id": "f466f94c-1ddb-4509-a7bf-293523e09c44",
   "metadata": {
    "button": false,
    "new_sheet": false,
    "run_control": {
     "read_only": false
    }
   },
   "outputs": [
    {
     "data": {
      "text/html": [
       "<div>\n",
       "<style scoped>\n",
       "    .dataframe tbody tr th:only-of-type {\n",
       "        vertical-align: middle;\n",
       "    }\n",
       "\n",
       "    .dataframe tbody tr th {\n",
       "        vertical-align: top;\n",
       "    }\n",
       "\n",
       "    .dataframe thead th {\n",
       "        text-align: right;\n",
       "    }\n",
       "</style>\n",
       "<table border=\"1\" class=\"dataframe\">\n",
       "  <thead>\n",
       "    <tr style=\"text-align: right;\">\n",
       "      <th></th>\n",
       "      <th>Cement</th>\n",
       "      <th>Blast Furnace Slag</th>\n",
       "      <th>Fly Ash</th>\n",
       "      <th>Water</th>\n",
       "      <th>Superplasticizer</th>\n",
       "      <th>Coarse Aggregate</th>\n",
       "      <th>Fine Aggregate</th>\n",
       "      <th>Age</th>\n",
       "      <th>Strength</th>\n",
       "    </tr>\n",
       "  </thead>\n",
       "  <tbody>\n",
       "    <tr>\n",
       "      <th>count</th>\n",
       "      <td>1030.000000</td>\n",
       "      <td>1030.000000</td>\n",
       "      <td>1030.000000</td>\n",
       "      <td>1030.000000</td>\n",
       "      <td>1030.000000</td>\n",
       "      <td>1030.000000</td>\n",
       "      <td>1030.000000</td>\n",
       "      <td>1030.000000</td>\n",
       "      <td>1030.000000</td>\n",
       "    </tr>\n",
       "    <tr>\n",
       "      <th>mean</th>\n",
       "      <td>281.167864</td>\n",
       "      <td>73.895825</td>\n",
       "      <td>54.188350</td>\n",
       "      <td>181.567282</td>\n",
       "      <td>6.204660</td>\n",
       "      <td>972.918932</td>\n",
       "      <td>773.580485</td>\n",
       "      <td>45.662136</td>\n",
       "      <td>35.817961</td>\n",
       "    </tr>\n",
       "    <tr>\n",
       "      <th>std</th>\n",
       "      <td>104.506364</td>\n",
       "      <td>86.279342</td>\n",
       "      <td>63.997004</td>\n",
       "      <td>21.354219</td>\n",
       "      <td>5.973841</td>\n",
       "      <td>77.753954</td>\n",
       "      <td>80.175980</td>\n",
       "      <td>63.169912</td>\n",
       "      <td>16.705742</td>\n",
       "    </tr>\n",
       "    <tr>\n",
       "      <th>min</th>\n",
       "      <td>102.000000</td>\n",
       "      <td>0.000000</td>\n",
       "      <td>0.000000</td>\n",
       "      <td>121.800000</td>\n",
       "      <td>0.000000</td>\n",
       "      <td>801.000000</td>\n",
       "      <td>594.000000</td>\n",
       "      <td>1.000000</td>\n",
       "      <td>2.330000</td>\n",
       "    </tr>\n",
       "    <tr>\n",
       "      <th>25%</th>\n",
       "      <td>192.375000</td>\n",
       "      <td>0.000000</td>\n",
       "      <td>0.000000</td>\n",
       "      <td>164.900000</td>\n",
       "      <td>0.000000</td>\n",
       "      <td>932.000000</td>\n",
       "      <td>730.950000</td>\n",
       "      <td>7.000000</td>\n",
       "      <td>23.710000</td>\n",
       "    </tr>\n",
       "    <tr>\n",
       "      <th>50%</th>\n",
       "      <td>272.900000</td>\n",
       "      <td>22.000000</td>\n",
       "      <td>0.000000</td>\n",
       "      <td>185.000000</td>\n",
       "      <td>6.400000</td>\n",
       "      <td>968.000000</td>\n",
       "      <td>779.500000</td>\n",
       "      <td>28.000000</td>\n",
       "      <td>34.445000</td>\n",
       "    </tr>\n",
       "    <tr>\n",
       "      <th>75%</th>\n",
       "      <td>350.000000</td>\n",
       "      <td>142.950000</td>\n",
       "      <td>118.300000</td>\n",
       "      <td>192.000000</td>\n",
       "      <td>10.200000</td>\n",
       "      <td>1029.400000</td>\n",
       "      <td>824.000000</td>\n",
       "      <td>56.000000</td>\n",
       "      <td>46.135000</td>\n",
       "    </tr>\n",
       "    <tr>\n",
       "      <th>max</th>\n",
       "      <td>540.000000</td>\n",
       "      <td>359.400000</td>\n",
       "      <td>200.100000</td>\n",
       "      <td>247.000000</td>\n",
       "      <td>32.200000</td>\n",
       "      <td>1145.000000</td>\n",
       "      <td>992.600000</td>\n",
       "      <td>365.000000</td>\n",
       "      <td>82.600000</td>\n",
       "    </tr>\n",
       "  </tbody>\n",
       "</table>\n",
       "</div>"
      ],
      "text/plain": [
       "            Cement  Blast Furnace Slag      Fly Ash        Water  \\\n",
       "count  1030.000000         1030.000000  1030.000000  1030.000000   \n",
       "mean    281.167864           73.895825    54.188350   181.567282   \n",
       "std     104.506364           86.279342    63.997004    21.354219   \n",
       "min     102.000000            0.000000     0.000000   121.800000   \n",
       "25%     192.375000            0.000000     0.000000   164.900000   \n",
       "50%     272.900000           22.000000     0.000000   185.000000   \n",
       "75%     350.000000          142.950000   118.300000   192.000000   \n",
       "max     540.000000          359.400000   200.100000   247.000000   \n",
       "\n",
       "       Superplasticizer  Coarse Aggregate  Fine Aggregate          Age  \\\n",
       "count       1030.000000       1030.000000     1030.000000  1030.000000   \n",
       "mean           6.204660        972.918932      773.580485    45.662136   \n",
       "std            5.973841         77.753954       80.175980    63.169912   \n",
       "min            0.000000        801.000000      594.000000     1.000000   \n",
       "25%            0.000000        932.000000      730.950000     7.000000   \n",
       "50%            6.400000        968.000000      779.500000    28.000000   \n",
       "75%           10.200000       1029.400000      824.000000    56.000000   \n",
       "max           32.200000       1145.000000      992.600000   365.000000   \n",
       "\n",
       "          Strength  \n",
       "count  1030.000000  \n",
       "mean     35.817961  \n",
       "std      16.705742  \n",
       "min       2.330000  \n",
       "25%      23.710000  \n",
       "50%      34.445000  \n",
       "75%      46.135000  \n",
       "max      82.600000  "
      ]
     },
     "execution_count": 4,
     "metadata": {},
     "output_type": "execute_result"
    }
   ],
   "source": [
    "concrete_data.describe()"
   ]
  },
  {
   "cell_type": "code",
   "execution_count": 5,
   "id": "b6d675f6-3a0b-49cc-959d-b4042985c2de",
   "metadata": {
    "button": false,
    "new_sheet": false,
    "run_control": {
     "read_only": false
    },
    "tags": []
   },
   "outputs": [
    {
     "data": {
      "text/plain": [
       "Cement                0\n",
       "Blast Furnace Slag    0\n",
       "Fly Ash               0\n",
       "Water                 0\n",
       "Superplasticizer      0\n",
       "Coarse Aggregate      0\n",
       "Fine Aggregate        0\n",
       "Age                   0\n",
       "Strength              0\n",
       "dtype: int64"
      ]
     },
     "execution_count": 5,
     "metadata": {},
     "output_type": "execute_result"
    }
   ],
   "source": [
    "concrete_data.isnull().sum()"
   ]
  },
  {
   "cell_type": "markdown",
   "id": "8bf6d292-3208-4191-ab17-6aa9a3718610",
   "metadata": {
    "button": false,
    "new_sheet": false,
    "run_control": {
     "read_only": false
    }
   },
   "source": [
    "The data looks very clean and is ready to be used to build our model.\n"
   ]
  },
  {
   "cell_type": "markdown",
   "id": "d402bcf8-6243-4cfa-b570-3a538b392072",
   "metadata": {
    "button": false,
    "new_sheet": false,
    "run_control": {
     "read_only": false
    }
   },
   "source": [
    "#### Split data into predictors and target\n"
   ]
  },
  {
   "cell_type": "markdown",
   "id": "50485922-1818-4058-afac-38447e663a80",
   "metadata": {},
   "source": [
    "The target variable in this problem is the concrete sample strength. Therefore, our predictors will be all the other columns.\n"
   ]
  },
  {
   "cell_type": "code",
   "execution_count": 6,
   "id": "51b12eaf-dd32-43b1-bdb6-6ad7e1c976e5",
   "metadata": {
    "button": false,
    "new_sheet": false,
    "run_control": {
     "read_only": false
    },
    "tags": []
   },
   "outputs": [],
   "source": [
    "concrete_data_columns = concrete_data.columns\n",
    "\n",
    "predictors = concrete_data[concrete_data_columns[concrete_data_columns != 'Strength']] # all columns except Strength\n",
    "target = concrete_data['Strength'] # Strength column"
   ]
  },
  {
   "cell_type": "markdown",
   "id": "8f2dc6a8-b3f8-4ff2-9631-99b1d6af19a5",
   "metadata": {
    "button": false,
    "new_sheet": false,
    "run_control": {
     "read_only": false
    }
   },
   "source": [
    "<a id=\"item2\"></a>\n"
   ]
  },
  {
   "cell_type": "markdown",
   "id": "b4de5b08-95e0-4093-9536-048de9a2a2dc",
   "metadata": {
    "button": false,
    "new_sheet": false,
    "run_control": {
     "read_only": false
    }
   },
   "source": [
    "Let's do a quick sanity check of the predictors and the target dataframes.\n"
   ]
  },
  {
   "cell_type": "code",
   "execution_count": 7,
   "id": "35abd379-29d4-4575-89f3-1368e7f3548d",
   "metadata": {
    "button": false,
    "new_sheet": false,
    "run_control": {
     "read_only": false
    },
    "tags": []
   },
   "outputs": [
    {
     "data": {
      "text/html": [
       "<div>\n",
       "<style scoped>\n",
       "    .dataframe tbody tr th:only-of-type {\n",
       "        vertical-align: middle;\n",
       "    }\n",
       "\n",
       "    .dataframe tbody tr th {\n",
       "        vertical-align: top;\n",
       "    }\n",
       "\n",
       "    .dataframe thead th {\n",
       "        text-align: right;\n",
       "    }\n",
       "</style>\n",
       "<table border=\"1\" class=\"dataframe\">\n",
       "  <thead>\n",
       "    <tr style=\"text-align: right;\">\n",
       "      <th></th>\n",
       "      <th>Cement</th>\n",
       "      <th>Blast Furnace Slag</th>\n",
       "      <th>Fly Ash</th>\n",
       "      <th>Water</th>\n",
       "      <th>Superplasticizer</th>\n",
       "      <th>Coarse Aggregate</th>\n",
       "      <th>Fine Aggregate</th>\n",
       "      <th>Age</th>\n",
       "    </tr>\n",
       "  </thead>\n",
       "  <tbody>\n",
       "    <tr>\n",
       "      <th>0</th>\n",
       "      <td>540.0</td>\n",
       "      <td>0.0</td>\n",
       "      <td>0.0</td>\n",
       "      <td>162.0</td>\n",
       "      <td>2.5</td>\n",
       "      <td>1040.0</td>\n",
       "      <td>676.0</td>\n",
       "      <td>28</td>\n",
       "    </tr>\n",
       "    <tr>\n",
       "      <th>1</th>\n",
       "      <td>540.0</td>\n",
       "      <td>0.0</td>\n",
       "      <td>0.0</td>\n",
       "      <td>162.0</td>\n",
       "      <td>2.5</td>\n",
       "      <td>1055.0</td>\n",
       "      <td>676.0</td>\n",
       "      <td>28</td>\n",
       "    </tr>\n",
       "    <tr>\n",
       "      <th>2</th>\n",
       "      <td>332.5</td>\n",
       "      <td>142.5</td>\n",
       "      <td>0.0</td>\n",
       "      <td>228.0</td>\n",
       "      <td>0.0</td>\n",
       "      <td>932.0</td>\n",
       "      <td>594.0</td>\n",
       "      <td>270</td>\n",
       "    </tr>\n",
       "    <tr>\n",
       "      <th>3</th>\n",
       "      <td>332.5</td>\n",
       "      <td>142.5</td>\n",
       "      <td>0.0</td>\n",
       "      <td>228.0</td>\n",
       "      <td>0.0</td>\n",
       "      <td>932.0</td>\n",
       "      <td>594.0</td>\n",
       "      <td>365</td>\n",
       "    </tr>\n",
       "    <tr>\n",
       "      <th>4</th>\n",
       "      <td>198.6</td>\n",
       "      <td>132.4</td>\n",
       "      <td>0.0</td>\n",
       "      <td>192.0</td>\n",
       "      <td>0.0</td>\n",
       "      <td>978.4</td>\n",
       "      <td>825.5</td>\n",
       "      <td>360</td>\n",
       "    </tr>\n",
       "  </tbody>\n",
       "</table>\n",
       "</div>"
      ],
      "text/plain": [
       "   Cement  Blast Furnace Slag  Fly Ash  Water  Superplasticizer  \\\n",
       "0   540.0                 0.0      0.0  162.0               2.5   \n",
       "1   540.0                 0.0      0.0  162.0               2.5   \n",
       "2   332.5               142.5      0.0  228.0               0.0   \n",
       "3   332.5               142.5      0.0  228.0               0.0   \n",
       "4   198.6               132.4      0.0  192.0               0.0   \n",
       "\n",
       "   Coarse Aggregate  Fine Aggregate  Age  \n",
       "0            1040.0           676.0   28  \n",
       "1            1055.0           676.0   28  \n",
       "2             932.0           594.0  270  \n",
       "3             932.0           594.0  365  \n",
       "4             978.4           825.5  360  "
      ]
     },
     "execution_count": 7,
     "metadata": {},
     "output_type": "execute_result"
    }
   ],
   "source": [
    "predictors.head()"
   ]
  },
  {
   "cell_type": "code",
   "execution_count": 8,
   "id": "f69f8bd2-4890-4d96-8e26-d9e5ffc02fca",
   "metadata": {
    "button": false,
    "new_sheet": false,
    "run_control": {
     "read_only": false
    }
   },
   "outputs": [
    {
     "data": {
      "text/plain": [
       "0    79.99\n",
       "1    61.89\n",
       "2    40.27\n",
       "3    41.05\n",
       "4    44.30\n",
       "Name: Strength, dtype: float64"
      ]
     },
     "execution_count": 8,
     "metadata": {},
     "output_type": "execute_result"
    }
   ],
   "source": [
    "target.head()"
   ]
  },
  {
   "cell_type": "markdown",
   "id": "f978a7b1-5477-4736-a650-8472382a70bb",
   "metadata": {
    "button": false,
    "new_sheet": false,
    "run_control": {
     "read_only": false
    }
   },
   "source": [
    "Finally, the last step is to normalize the data by substracting the mean and dividing by the standard deviation.\n"
   ]
  },
  {
   "cell_type": "markdown",
   "id": "49991f0a-338c-47b7-b1fe-e9cbae199dfa",
   "metadata": {},
   "source": [
    "PART B: Normalized Data"
   ]
  },
  {
   "cell_type": "code",
   "execution_count": 9,
   "id": "9504793f-8f4e-4f8f-a582-eddcf11bdd5e",
   "metadata": {
    "button": false,
    "new_sheet": false,
    "run_control": {
     "read_only": false
    },
    "tags": []
   },
   "outputs": [
    {
     "data": {
      "text/html": [
       "<div>\n",
       "<style scoped>\n",
       "    .dataframe tbody tr th:only-of-type {\n",
       "        vertical-align: middle;\n",
       "    }\n",
       "\n",
       "    .dataframe tbody tr th {\n",
       "        vertical-align: top;\n",
       "    }\n",
       "\n",
       "    .dataframe thead th {\n",
       "        text-align: right;\n",
       "    }\n",
       "</style>\n",
       "<table border=\"1\" class=\"dataframe\">\n",
       "  <thead>\n",
       "    <tr style=\"text-align: right;\">\n",
       "      <th></th>\n",
       "      <th>Cement</th>\n",
       "      <th>Blast Furnace Slag</th>\n",
       "      <th>Fly Ash</th>\n",
       "      <th>Water</th>\n",
       "      <th>Superplasticizer</th>\n",
       "      <th>Coarse Aggregate</th>\n",
       "      <th>Fine Aggregate</th>\n",
       "      <th>Age</th>\n",
       "    </tr>\n",
       "  </thead>\n",
       "  <tbody>\n",
       "    <tr>\n",
       "      <th>0</th>\n",
       "      <td>2.476712</td>\n",
       "      <td>-0.856472</td>\n",
       "      <td>-0.846733</td>\n",
       "      <td>-0.916319</td>\n",
       "      <td>-0.620147</td>\n",
       "      <td>0.862735</td>\n",
       "      <td>-1.217079</td>\n",
       "      <td>-0.279597</td>\n",
       "    </tr>\n",
       "    <tr>\n",
       "      <th>1</th>\n",
       "      <td>2.476712</td>\n",
       "      <td>-0.856472</td>\n",
       "      <td>-0.846733</td>\n",
       "      <td>-0.916319</td>\n",
       "      <td>-0.620147</td>\n",
       "      <td>1.055651</td>\n",
       "      <td>-1.217079</td>\n",
       "      <td>-0.279597</td>\n",
       "    </tr>\n",
       "    <tr>\n",
       "      <th>2</th>\n",
       "      <td>0.491187</td>\n",
       "      <td>0.795140</td>\n",
       "      <td>-0.846733</td>\n",
       "      <td>2.174405</td>\n",
       "      <td>-1.038638</td>\n",
       "      <td>-0.526262</td>\n",
       "      <td>-2.239829</td>\n",
       "      <td>3.551340</td>\n",
       "    </tr>\n",
       "    <tr>\n",
       "      <th>3</th>\n",
       "      <td>0.491187</td>\n",
       "      <td>0.795140</td>\n",
       "      <td>-0.846733</td>\n",
       "      <td>2.174405</td>\n",
       "      <td>-1.038638</td>\n",
       "      <td>-0.526262</td>\n",
       "      <td>-2.239829</td>\n",
       "      <td>5.055221</td>\n",
       "    </tr>\n",
       "    <tr>\n",
       "      <th>4</th>\n",
       "      <td>-0.790075</td>\n",
       "      <td>0.678079</td>\n",
       "      <td>-0.846733</td>\n",
       "      <td>0.488555</td>\n",
       "      <td>-1.038638</td>\n",
       "      <td>0.070492</td>\n",
       "      <td>0.647569</td>\n",
       "      <td>4.976069</td>\n",
       "    </tr>\n",
       "  </tbody>\n",
       "</table>\n",
       "</div>"
      ],
      "text/plain": [
       "     Cement  Blast Furnace Slag   Fly Ash     Water  Superplasticizer  \\\n",
       "0  2.476712           -0.856472 -0.846733 -0.916319         -0.620147   \n",
       "1  2.476712           -0.856472 -0.846733 -0.916319         -0.620147   \n",
       "2  0.491187            0.795140 -0.846733  2.174405         -1.038638   \n",
       "3  0.491187            0.795140 -0.846733  2.174405         -1.038638   \n",
       "4 -0.790075            0.678079 -0.846733  0.488555         -1.038638   \n",
       "\n",
       "   Coarse Aggregate  Fine Aggregate       Age  \n",
       "0          0.862735       -1.217079 -0.279597  \n",
       "1          1.055651       -1.217079 -0.279597  \n",
       "2         -0.526262       -2.239829  3.551340  \n",
       "3         -0.526262       -2.239829  5.055221  \n",
       "4          0.070492        0.647569  4.976069  "
      ]
     },
     "execution_count": 9,
     "metadata": {},
     "output_type": "execute_result"
    }
   ],
   "source": [
    "predictors_norm = (predictors - predictors.mean()) / predictors.std()\n",
    "predictors_norm.head()"
   ]
  },
  {
   "cell_type": "markdown",
   "id": "41c2cc54-48d9-48c7-a5ea-b783ef5c4c84",
   "metadata": {},
   "source": [
    "Let's save the number of predictors to *n_cols* since we will need this number when building our network.\n"
   ]
  },
  {
   "cell_type": "code",
   "execution_count": 10,
   "id": "aa5305c0-a6e7-4693-9f03-8ff9b3eff95f",
   "metadata": {
    "button": false,
    "new_sheet": false,
    "run_control": {
     "read_only": false
    },
    "tags": []
   },
   "outputs": [],
   "source": [
    "n_cols = predictors_norm.shape[1] # number of predictors"
   ]
  },
  {
   "cell_type": "markdown",
   "id": "878bd729-be30-4c13-be5a-a8a131dee18b",
   "metadata": {
    "button": false,
    "new_sheet": false,
    "run_control": {
     "read_only": false
    }
   },
   "source": [
    "## Import Keras\n"
   ]
  },
  {
   "cell_type": "markdown",
   "id": "92fd70ac-3471-4d37-b86c-18979e54de44",
   "metadata": {
    "button": false,
    "new_sheet": false,
    "run_control": {
     "read_only": false
    }
   },
   "source": [
    "#### Let's go ahead and import the Keras library\n"
   ]
  },
  {
   "cell_type": "code",
   "execution_count": 12,
   "id": "67b8ca31-b6b7-4c02-b995-b8d2032dd75c",
   "metadata": {
    "button": false,
    "new_sheet": false,
    "run_control": {
     "read_only": false
    },
    "tags": []
   },
   "outputs": [],
   "source": [
    "import keras"
   ]
  },
  {
   "cell_type": "code",
   "execution_count": 13,
   "id": "6a05cfe2-348c-42ad-8a50-c9e10dbc80eb",
   "metadata": {
    "button": false,
    "new_sheet": false,
    "run_control": {
     "read_only": false
    },
    "tags": []
   },
   "outputs": [],
   "source": [
    "from keras.models import Sequential\n",
    "from keras.layers import Dense"
   ]
  },
  {
   "cell_type": "markdown",
   "id": "330b328d-5a07-40c3-a471-2e4b1765608c",
   "metadata": {
    "button": false,
    "new_sheet": false,
    "run_control": {
     "read_only": false
    }
   },
   "source": [
    "## Build a Neural Network\n"
   ]
  },
  {
   "cell_type": "code",
   "execution_count": 14,
   "id": "62e5ebbc-fb3f-4773-bb4b-bfec5f271d5b",
   "metadata": {
    "button": false,
    "new_sheet": false,
    "run_control": {
     "read_only": false
    },
    "tags": []
   },
   "outputs": [],
   "source": [
    "# define regression model\n",
    "def regression_model():\n",
    "    # create model\n",
    "    model = Sequential()\n",
    "    model.add(Dense(10, activation='relu', input_shape=(n_cols,))) #We have de 10 nodes and ReLu \n",
    "    model.add(Dense(1))\n",
    "    # compile model\n",
    "    model.compile(optimizer='adam', loss='mean_squared_error')\n",
    "    return model"
   ]
  },
  {
   "cell_type": "markdown",
   "id": "01a68fbf-9fbc-4dfb-ad87-5372d56f13d1",
   "metadata": {},
   "source": [
    "The above function creates a model that has one hidden layer with 10 neurons and a ReLU activation function. It uses the adam optimizer and the mean squared error as the loss function."
   ]
  },
  {
   "cell_type": "markdown",
   "id": "c0934d22-d1db-4678-9c98-b51cf72a2d67",
   "metadata": {},
   "source": [
    "Let's import scikit-learn in order to randomly split the data into a training and test sets"
   ]
  },
  {
   "cell_type": "code",
   "execution_count": 15,
   "id": "65b2ad69-845e-4bcd-b945-04fead75d13b",
   "metadata": {},
   "outputs": [],
   "source": [
    "from sklearn.model_selection import train_test_split"
   ]
  },
  {
   "cell_type": "markdown",
   "id": "7fe69f24-f19a-4d06-a539-4061e41e5bac",
   "metadata": {},
   "source": [
    "Splitting the data into a training and test sets by holding 30% of the data for testing"
   ]
  },
  {
   "cell_type": "code",
   "execution_count": 16,
   "id": "37a06d33-46da-432a-8d9a-2d8f0ab09d8e",
   "metadata": {
    "tags": []
   },
   "outputs": [],
   "source": [
    "X_train, X_test, y_train, y_test = train_test_split(predictors_norm, target, test_size=0.3, random_state=42)"
   ]
  },
  {
   "cell_type": "markdown",
   "id": "05bacbfd-603f-412a-966b-b492de72e48f",
   "metadata": {
    "button": false,
    "new_sheet": false,
    "run_control": {
     "read_only": false
    }
   },
   "source": [
    "## Train and Test the Network\n"
   ]
  },
  {
   "cell_type": "markdown",
   "id": "e1b6edb7-f715-4647-bbe9-3468511356a6",
   "metadata": {},
   "source": [
    "Let's call the function now to create our model.\n"
   ]
  },
  {
   "cell_type": "code",
   "execution_count": 18,
   "id": "e9eb1cfd-08fa-4bcc-801b-0d1b570f5ede",
   "metadata": {
    "button": false,
    "new_sheet": false,
    "run_control": {
     "read_only": false
    },
    "tags": []
   },
   "outputs": [],
   "source": [
    "# build the model\n",
    "model = regression_model()"
   ]
  },
  {
   "cell_type": "markdown",
   "id": "99d97fce-94ea-4212-9a87-1f1b9ce330c2",
   "metadata": {},
   "source": [
    "Next, we will train the model for 50 epochs."
   ]
  },
  {
   "cell_type": "markdown",
   "id": "471f2b9e-571a-4a5f-b019-8b9f7ddcfe0f",
   "metadata": {},
   "source": [
    "PART C , 100 epochs this time for training."
   ]
  },
  {
   "cell_type": "code",
   "execution_count": 20,
   "id": "96af14ff-e1a3-4c51-b1aa-5b39008754ca",
   "metadata": {},
   "outputs": [
    {
     "name": "stdout",
     "output_type": "stream",
     "text": [
      "Epoch 1/100\n",
      " - 0s - loss: 149.0147\n",
      "Epoch 2/100\n",
      " - 0s - loss: 148.2751\n",
      "Epoch 3/100\n",
      " - 0s - loss: 147.5799\n",
      "Epoch 4/100\n",
      " - 0s - loss: 146.9224\n",
      "Epoch 5/100\n",
      " - 0s - loss: 146.3219\n",
      "Epoch 6/100\n",
      " - 0s - loss: 145.6622\n",
      "Epoch 7/100\n",
      " - 0s - loss: 145.0454\n",
      "Epoch 8/100\n",
      " - 0s - loss: 144.4307\n",
      "Epoch 9/100\n",
      " - 0s - loss: 143.8971\n",
      "Epoch 10/100\n",
      " - 0s - loss: 143.2561\n",
      "Epoch 11/100\n",
      " - 0s - loss: 142.7402\n",
      "Epoch 12/100\n",
      " - 0s - loss: 142.1954\n",
      "Epoch 13/100\n",
      " - 0s - loss: 141.6401\n",
      "Epoch 14/100\n",
      " - 0s - loss: 141.1240\n",
      "Epoch 15/100\n",
      " - 0s - loss: 140.6000\n",
      "Epoch 16/100\n",
      " - 0s - loss: 140.1056\n",
      "Epoch 17/100\n",
      " - 0s - loss: 139.5902\n",
      "Epoch 18/100\n",
      " - 0s - loss: 139.0478\n",
      "Epoch 19/100\n",
      " - 0s - loss: 138.5892\n",
      "Epoch 20/100\n",
      " - 0s - loss: 138.1111\n",
      "Epoch 21/100\n",
      " - 0s - loss: 137.5828\n",
      "Epoch 22/100\n",
      " - 0s - loss: 137.1024\n",
      "Epoch 23/100\n",
      " - 0s - loss: 136.6413\n",
      "Epoch 24/100\n",
      " - 0s - loss: 136.1537\n",
      "Epoch 25/100\n",
      " - 0s - loss: 135.6803\n",
      "Epoch 26/100\n",
      " - 0s - loss: 135.1630\n",
      "Epoch 27/100\n",
      " - 0s - loss: 134.7384\n",
      "Epoch 28/100\n",
      " - 0s - loss: 134.1915\n",
      "Epoch 29/100\n",
      " - 0s - loss: 133.7829\n",
      "Epoch 30/100\n",
      " - 0s - loss: 133.3066\n",
      "Epoch 31/100\n",
      " - 0s - loss: 132.8174\n",
      "Epoch 32/100\n",
      " - 0s - loss: 132.2926\n",
      "Epoch 33/100\n",
      " - 0s - loss: 131.7912\n",
      "Epoch 34/100\n",
      " - 0s - loss: 131.3886\n",
      "Epoch 35/100\n",
      " - 0s - loss: 130.8067\n",
      "Epoch 36/100\n",
      " - 0s - loss: 130.2945\n",
      "Epoch 37/100\n",
      " - 0s - loss: 129.8747\n",
      "Epoch 38/100\n",
      " - 0s - loss: 129.3417\n",
      "Epoch 39/100\n",
      " - 0s - loss: 128.9017\n",
      "Epoch 40/100\n",
      " - 0s - loss: 128.4076\n",
      "Epoch 41/100\n",
      " - 0s - loss: 127.8867\n",
      "Epoch 42/100\n",
      " - 0s - loss: 127.3834\n",
      "Epoch 43/100\n",
      " - 0s - loss: 126.8508\n",
      "Epoch 44/100\n",
      " - 0s - loss: 126.3602\n",
      "Epoch 45/100\n",
      " - 0s - loss: 125.8738\n",
      "Epoch 46/100\n",
      " - 0s - loss: 125.2442\n",
      "Epoch 47/100\n",
      " - 0s - loss: 124.7220\n",
      "Epoch 48/100\n",
      " - 0s - loss: 124.0702\n",
      "Epoch 49/100\n",
      " - 0s - loss: 123.4807\n",
      "Epoch 50/100\n",
      " - 0s - loss: 122.8959\n",
      "Epoch 51/100\n",
      " - 0s - loss: 122.2551\n",
      "Epoch 52/100\n",
      " - 0s - loss: 121.6853\n",
      "Epoch 53/100\n",
      " - 0s - loss: 121.0899\n",
      "Epoch 54/100\n",
      " - 0s - loss: 120.4133\n",
      "Epoch 55/100\n",
      " - 0s - loss: 119.8965\n",
      "Epoch 56/100\n",
      " - 0s - loss: 119.1162\n",
      "Epoch 57/100\n",
      " - 0s - loss: 118.4568\n",
      "Epoch 58/100\n",
      " - 0s - loss: 117.8224\n",
      "Epoch 59/100\n",
      " - 0s - loss: 117.0758\n",
      "Epoch 60/100\n",
      " - 0s - loss: 116.4119\n",
      "Epoch 61/100\n",
      " - 0s - loss: 115.7895\n",
      "Epoch 62/100\n",
      " - 0s - loss: 115.0598\n",
      "Epoch 63/100\n",
      " - 0s - loss: 114.4283\n",
      "Epoch 64/100\n",
      " - 0s - loss: 113.6329\n",
      "Epoch 65/100\n",
      " - 0s - loss: 112.8954\n",
      "Epoch 66/100\n",
      " - 0s - loss: 112.1506\n",
      "Epoch 67/100\n",
      " - 0s - loss: 111.3873\n",
      "Epoch 68/100\n",
      " - 0s - loss: 110.6355\n",
      "Epoch 69/100\n",
      " - 0s - loss: 109.8779\n",
      "Epoch 70/100\n",
      " - 0s - loss: 109.0939\n",
      "Epoch 71/100\n",
      " - 0s - loss: 108.4151\n",
      "Epoch 72/100\n",
      " - 0s - loss: 107.6115\n",
      "Epoch 73/100\n",
      " - 0s - loss: 106.8554\n",
      "Epoch 74/100\n",
      " - 0s - loss: 106.0660\n",
      "Epoch 75/100\n",
      " - 0s - loss: 105.3236\n",
      "Epoch 76/100\n",
      " - 0s - loss: 104.5965\n",
      "Epoch 77/100\n",
      " - 0s - loss: 103.8564\n",
      "Epoch 78/100\n",
      " - 0s - loss: 103.0548\n",
      "Epoch 79/100\n",
      " - 0s - loss: 102.2574\n",
      "Epoch 80/100\n",
      " - 0s - loss: 101.5407\n",
      "Epoch 81/100\n",
      " - 0s - loss: 100.7785\n",
      "Epoch 82/100\n",
      " - 0s - loss: 100.1229\n",
      "Epoch 83/100\n",
      " - 0s - loss: 99.1962\n",
      "Epoch 84/100\n",
      " - 0s - loss: 98.5552\n",
      "Epoch 85/100\n",
      " - 0s - loss: 97.7540\n",
      "Epoch 86/100\n",
      " - 0s - loss: 96.9927\n",
      "Epoch 87/100\n",
      " - 0s - loss: 96.3832\n",
      "Epoch 88/100\n",
      " - 0s - loss: 95.6010\n",
      "Epoch 89/100\n",
      " - 0s - loss: 94.8924\n",
      "Epoch 90/100\n",
      " - 0s - loss: 94.1727\n",
      "Epoch 91/100\n",
      " - 0s - loss: 93.4896\n",
      "Epoch 92/100\n",
      " - 0s - loss: 92.8141\n",
      "Epoch 93/100\n",
      " - 0s - loss: 92.1151\n",
      "Epoch 94/100\n",
      " - 0s - loss: 91.4126\n",
      "Epoch 95/100\n",
      " - 0s - loss: 90.7044\n",
      "Epoch 96/100\n",
      " - 0s - loss: 90.0722\n",
      "Epoch 97/100\n",
      " - 0s - loss: 89.3563\n",
      "Epoch 98/100\n",
      " - 0s - loss: 88.7267\n",
      "Epoch 99/100\n",
      " - 0s - loss: 88.0285\n",
      "Epoch 100/100\n",
      " - 0s - loss: 87.4206\n"
     ]
    },
    {
     "data": {
      "text/plain": [
       "<keras.callbacks.History at 0x7fb5d47c0710>"
      ]
     },
     "execution_count": 20,
     "metadata": {},
     "output_type": "execute_result"
    }
   ],
   "source": [
    "# fit the model\n",
    "model.fit(X_train, y_train, epochs=100, verbose=2)"
   ]
  },
  {
   "cell_type": "markdown",
   "id": "3d5d0779-78df-4846-86ba-099ef7d59790",
   "metadata": {},
   "source": [
    "Next we need to evaluate the model on the test data."
   ]
  },
  {
   "cell_type": "code",
   "execution_count": 21,
   "id": "642e6d40-1c1c-4abe-98c3-174bdb48b559",
   "metadata": {},
   "outputs": [
    {
     "name": "stdout",
     "output_type": "stream",
     "text": [
      "309/309 [==============================] - 0s 106us/step\n"
     ]
    },
    {
     "data": {
      "text/plain": [
       "91.32028721682848"
      ]
     },
     "execution_count": 21,
     "metadata": {},
     "output_type": "execute_result"
    }
   ],
   "source": [
    "loss_val = model.evaluate(X_test, y_test)\n",
    "y_pred = model.predict(X_test)\n",
    "loss_val"
   ]
  },
  {
   "cell_type": "markdown",
   "id": "c6727a35-4c27-40e4-aab9-5376bab56d9c",
   "metadata": {},
   "source": [
    "Now we need to compute the mean squared error between the predicted concrete strength and the actual concrete strength.\n",
    "\n",
    "Let's import the mean_squared_error function from Scikit-learn."
   ]
  },
  {
   "cell_type": "code",
   "execution_count": 22,
   "id": "6edbdd1f-de0e-48a9-bdf1-9f1e015393f6",
   "metadata": {},
   "outputs": [],
   "source": [
    "from sklearn.metrics import mean_squared_error"
   ]
  },
  {
   "cell_type": "code",
   "execution_count": 23,
   "id": "d4fed71d-4fb7-43cf-bd28-4c14ca1f1721",
   "metadata": {},
   "outputs": [
    {
     "name": "stdout",
     "output_type": "stream",
     "text": [
      "91.32029132150949 0.0\n"
     ]
    }
   ],
   "source": [
    "mean_square_error = mean_squared_error(y_test, y_pred)\n",
    "mean = np.mean(mean_square_error)\n",
    "standard_deviation = np.std(mean_square_error)\n",
    "print(mean, standard_deviation)"
   ]
  },
  {
   "cell_type": "markdown",
   "id": "9116b721-77a7-4e5c-980e-d00aa4225c67",
   "metadata": {},
   "source": [
    "Create a list of 100 mean squared errors and report mean and the standard deviation of the mean squared errors."
   ]
  },
  {
   "cell_type": "code",
   "execution_count": 25,
   "id": "a8e48768-bc34-4d81-9467-bef5b94e8868",
   "metadata": {},
   "outputs": [
    {
     "name": "stdout",
     "output_type": "stream",
     "text": [
      "MSE 1: 54.198526154058264\n",
      "MSE 2: 56.125113885379534\n",
      "MSE 3: 40.1945607577327\n",
      "MSE 4: 40.08249434684087\n",
      "MSE 5: 40.56168686456279\n",
      "MSE 6: 44.29380794636254\n",
      "MSE 7: 44.49595158154139\n",
      "MSE 8: 33.91558379880047\n",
      "MSE 9: 37.07186922980744\n",
      "MSE 10: 34.359053627186995\n",
      "MSE 11: 35.38441888259838\n",
      "MSE 12: 32.0574397732139\n",
      "MSE 13: 39.195875994981684\n",
      "MSE 14: 40.30456634323959\n",
      "MSE 15: 34.56191125271004\n",
      "MSE 16: 29.644780983045262\n",
      "MSE 17: 37.011984204783026\n",
      "MSE 18: 34.94962439799386\n",
      "MSE 19: 34.372486373753226\n",
      "MSE 20: 34.450974288496\n",
      "MSE 21: 33.733406054549235\n",
      "MSE 22: 33.49273129188513\n",
      "MSE 23: 29.655780372496174\n",
      "MSE 24: 31.954890470288717\n",
      "MSE 25: 35.36003454140475\n",
      "MSE 26: 35.70769398266444\n",
      "MSE 27: 32.17237579938278\n",
      "MSE 28: 32.64725477718613\n",
      "MSE 29: 37.53781939015805\n",
      "MSE 30: 37.081519599099764\n",
      "MSE 31: 30.42779815081254\n",
      "MSE 32: 32.02096680452909\n",
      "MSE 33: 32.62548538010483\n",
      "MSE 34: 35.277301578460005\n",
      "MSE 35: 35.28792463382857\n",
      "MSE 36: 42.32700388022611\n",
      "MSE 37: 29.53308313178399\n",
      "MSE 38: 36.279119522440396\n",
      "MSE 39: 34.54157112640085\n",
      "MSE 40: 30.225898532805704\n",
      "MSE 41: 37.056723140975805\n",
      "MSE 42: 29.724024355990217\n",
      "MSE 43: 35.21767501460696\n",
      "MSE 44: 36.85238724001789\n",
      "MSE 45: 36.35864230652843\n",
      "MSE 46: 37.483641380631035\n",
      "MSE 47: 32.96795474055516\n",
      "MSE 48: 35.70948035971632\n",
      "MSE 49: 35.167567651248675\n",
      "MSE 50: 37.50916466820973\n",
      "MSE 51: 30.3004615808382\n",
      "MSE 52: 35.5380613333199\n",
      "MSE 53: 32.667784224821915\n",
      "MSE 54: 34.13802226538797\n",
      "MSE 55: 40.586616398832945\n",
      "MSE 56: 35.6399518417309\n",
      "MSE 57: 30.62261118472201\n",
      "MSE 58: 32.51352243516052\n",
      "MSE 59: 36.63857386567446\n",
      "MSE 60: 33.37581665384731\n",
      "MSE 61: 34.184484475638875\n",
      "MSE 62: 32.59165413865765\n",
      "MSE 63: 32.2744184821169\n",
      "MSE 64: 35.36478654312084\n",
      "MSE 65: 32.72395239524471\n",
      "MSE 66: 36.29682674222779\n",
      "MSE 67: 31.719772153687707\n",
      "MSE 68: 32.94945569331592\n",
      "MSE 69: 31.286298671586614\n",
      "MSE 70: 31.12855945821719\n",
      "MSE 71: 33.69731783326775\n",
      "MSE 72: 30.978615733026302\n",
      "MSE 73: 31.970804936677506\n",
      "MSE 74: 33.61932761923781\n",
      "MSE 75: 37.517328552443615\n",
      "MSE 76: 31.937984725804004\n",
      "MSE 77: 31.077319018663324\n",
      "MSE 78: 30.407799865821417\n",
      "MSE 79: 36.47023443573887\n",
      "MSE 80: 34.81702477415017\n",
      "MSE 81: 31.84909840926383\n",
      "MSE 82: 34.39689007237505\n",
      "MSE 83: 34.64771043598459\n",
      "MSE 84: 30.60082586220553\n",
      "MSE 85: 31.094501199074163\n",
      "MSE 86: 32.966357049046984\n",
      "MSE 87: 29.296524788569478\n",
      "MSE 88: 30.4199008262659\n",
      "MSE 89: 31.2189478118057\n",
      "MSE 90: 31.48472459416559\n",
      "MSE 91: 32.844970715470296\n",
      "MSE 92: 29.137719169789534\n",
      "MSE 93: 34.02504745038968\n",
      "MSE 94: 33.183547430439674\n",
      "MSE 95: 33.57761889831148\n",
      "MSE 96: 32.2056362003956\n",
      "MSE 97: 35.11939039508116\n",
      "MSE 98: 31.321126277392736\n",
      "MSE 99: 30.86966306569121\n",
      "MSE 100: 32.01202428379491\n",
      "\n",
      "\n",
      "Below is the mean and standard deviation of 100 mean squared errors with normalized data. Total number of epochs for each training is: 100\n",
      "\n",
      "Mean: 34.564772284307914\n",
      "Standard Deviation: 4.331233743626679\n"
     ]
    }
   ],
   "source": [
    "total_mean_squared_errors = 100\n",
    "epochs = 100\n",
    "mean_squared_errors = []\n",
    "for i in range(0, total_mean_squared_errors):\n",
    "    X_train, X_test, y_train, y_test = train_test_split(predictors_norm, target, test_size=0.3, random_state=i)\n",
    "    model.fit(X_train, y_train, epochs=epochs, verbose=0)\n",
    "    MSE = model.evaluate(X_test, y_test, verbose=0)\n",
    "    print(\"MSE \"+str(i+1)+\": \"+str(MSE))\n",
    "    y_pred = model.predict(X_test)\n",
    "    mean_square_error = mean_squared_error(y_test, y_pred)\n",
    "    mean_squared_errors.append(mean_square_error)\n",
    "\n",
    "mean_squared_errors = np.array(mean_squared_errors)\n",
    "mean = np.mean(mean_squared_errors)\n",
    "standard_deviation = np.std(mean_squared_errors)\n",
    "\n",
    "print('\\n')\n",
    "print(\"Below is the mean and standard deviation of \" +str(total_mean_squared_errors) + \" mean squared errors with normalized data. Total number of epochs for each training is: \" +str(epochs) + \"\\n\")\n",
    "print(\"Mean: \"+str(mean))\n",
    "print(\"Standard Deviation: \"+str(standard_deviation))"
   ]
  },
  {
   "cell_type": "markdown",
   "id": "e940bafb-555c-442e-a442-5d4a58a85abd",
   "metadata": {},
   "source": [
    "<a id='item32'></a>\n"
   ]
  }
 ],
 "metadata": {
  "kernelspec": {
   "display_name": "Python",
   "language": "python",
   "name": "conda-env-python-py"
  },
  "language_info": {
   "codemirror_mode": {
    "name": "ipython",
    "version": 3
   },
   "file_extension": ".py",
   "mimetype": "text/x-python",
   "name": "python",
   "nbconvert_exporter": "python",
   "pygments_lexer": "ipython3",
   "version": "3.7.12"
  }
 },
 "nbformat": 4,
 "nbformat_minor": 5
}
